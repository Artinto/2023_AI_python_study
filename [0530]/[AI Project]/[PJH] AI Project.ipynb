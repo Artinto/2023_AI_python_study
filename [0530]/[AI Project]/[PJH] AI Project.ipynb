{
  "nbformat": 4,
  "nbformat_minor": 0,
  "metadata": {
    "colab": {
      "provenance": []
    },
    "kernelspec": {
      "name": "python3",
      "display_name": "Python 3"
    },
    "language_info": {
      "name": "python"
    }
  },
  "cells": [
    {
      "cell_type": "markdown",
      "source": [
        "## 📌 AI 프로젝트 (5주)\n",
        "\n",
        "---\n",
        "\n",
        "###분야 : __VISION__   \n",
        "\n",
        "* 주제 : 애니메이션 캐릭터와 닮은 꼴 찾기\n",
        "* 주차별 task  \n",
        "  1주차 : 주제 선정  \n",
        "  2주차 : 데이터 수집 및 데이터 전처리  \n",
        "  3주차 : 특징 추출  \n",
        "  4주차 : 닮은 꼴 매칭 알고리즘  \n",
        "  5주차 : 모델 학습 및 평가, 결과 시각화 및 적용  \n",
        "\n",
        "* 사용 라이브러리 및 모듈\n",
        "  - OpenCV : 이미지 읽기 및 조작, 색 공간 변환, 얼굴 감지를 위한 함수를 제공하는 컴퓨터비전 라이브러리\n",
        "  - dlib : 컴퓨터비전 작업을 위한 기계 학습 알고리즘과 도구를 제공하는 라이브러리\n",
        "  - numpy : 다차원 배열 및 행렬에 대한 함수를 제공하는 라이브러리\n",
        "  - os : 운영 체제에 종속된 기능을 사용하는 방법을 제공하는 모듈"
      ],
      "metadata": {
        "id": "RPzGbtOYW4Xn"
      }
    }
  ]
}