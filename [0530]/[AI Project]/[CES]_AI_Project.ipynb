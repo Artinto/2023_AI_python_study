{
  "nbformat": 4,
  "nbformat_minor": 0,
  "metadata": {
    "colab": {
      "provenance": []
    },
    "kernelspec": {
      "name": "python3",
      "display_name": "Python 3"
    },
    "language_info": {
      "name": "python"
    }
  },
  "cells": [
    {
      "cell_type": "markdown",
      "source": [
        "# AI 프로젝트 (5주)"
      ],
      "metadata": {
        "id": "n2nHa2mU5PU8"
      }
    },
    {
      "cell_type": "markdown",
      "source": [
        "## 분야 : VISION"
      ],
      "metadata": {
        "id": "4IZ1lane5S8w"
      }
    },
    {
      "cell_type": "markdown",
      "source": [
        "* 주제 : 얼굴 이미지에서 감정 분류\n",
        "* 주차별 task  \n",
        "  1주차 : 주제 선정  \n",
        "  2주차 : 감정 분류에 사용할 이미지 데이터 수집 & 전처리 (FER 데이터 SET 사용 예정)  \n",
        "  3주차 : CNN 모델 설계  \n",
        "  4주차 : 모델 훈련 & 모델 성능 평가  \n",
        "  5주차 : 실제 이미지 알고리즘에 대입 & 정확도 확인 & 마무"
      ],
      "metadata": {
        "id": "VyI8a8PP5Xt3"
      }
    }
  ]
}